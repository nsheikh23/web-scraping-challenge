{
 "cells": [
  {
   "cell_type": "code",
   "execution_count": 1,
   "metadata": {},
   "outputs": [
    {
     "name": "stderr",
     "output_type": "stream",
     "text": [
      "[WDM] - Current google-chrome version is 84.0.4147\n",
      "[WDM] - Get LATEST driver version for 84.0.4147\n",
      "[WDM] - Driver [C:\\Users\\nabis\\.wdm\\drivers\\chromedriver\\win32\\84.0.4147.30\\chromedriver.exe] found in cache\n"
     ]
    },
    {
     "name": "stdout",
     "output_type": "stream",
     "text": [
      " \n"
     ]
    }
   ],
   "source": [
    "import pandas as pd\n",
    "from bs4 import BeautifulSoup as bs\n",
    "from splinter import Browser\n",
    "from webdriver_manager.chrome import ChromeDriverManager\n",
    "from pprint import pprint\n",
    "\n",
    "# Setting the chromedriver path\n",
    "executable_path = {'executable_path':ChromeDriverManager().install()}\n",
    "browser = Browser('chrome', **executable_path, headless=False)"
   ]
  },
  {
   "cell_type": "markdown",
   "metadata": {},
   "source": [
    "## NASA Mars News"
   ]
  },
  {
   "cell_type": "code",
   "execution_count": 2,
   "metadata": {},
   "outputs": [],
   "source": [
    "# Visiting the following url\n",
    "Mars_news_url = 'https://mars.nasa.gov/news/'\n",
    "browser.visit(Mars_news_url)\n",
    "\n",
    "# Retrieving page\n",
    "html = browser.html\n",
    "\n",
    "# Creating a BeautifulSoup object and parsing with html.parser\n",
    "soup = bs(html, 'html.parser')\n",
    "\n",
    "# Extracting all news\n",
    "latest_news = soup.find('div', class_='list_text')\n",
    "# print(latest_news)\n",
    "news_title = latest_news.find('div', class_='content_title').text\n",
    "news_p = latest_news.find('div', class_='article_teaser_body').text"
   ]
  },
  {
   "cell_type": "markdown",
   "metadata": {},
   "source": [
    "## JPL Mars Featured Image"
   ]
  },
  {
   "cell_type": "code",
   "execution_count": 3,
   "metadata": {},
   "outputs": [
    {
     "data": {
      "text/plain": [
       "'https://www.jpl.nasa.gov/spaceimages/images/largesize/PIA19977_hires.jpg'"
      ]
     },
     "execution_count": 3,
     "metadata": {},
     "output_type": "execute_result"
    }
   ],
   "source": [
    "# Visiting the following url\n",
    "JPL_url = 'https://www.jpl.nasa.gov/spaceimages/?search=&category=Mars'\n",
    "browser.visit(JPL_url)\n",
    "\n",
    "# Retrieving page\n",
    "html = browser.html\n",
    "\n",
    "# Creating a BeautifulSoup object and parsing with html.parser\n",
    "soup = bs(html, 'html.parser')\n",
    "\n",
    "# Extracting url for page with full resolution image\n",
    "home_pg_url = JPL_url.split('spaceimages')[0]\n",
    "short_detail_url = soup.find('a', id='full_image')['data-link'][1:]\n",
    "detail_url = f'{home_pg_url}{short_detail_url}'\n",
    "\n",
    "# Extracting featured image url\n",
    "browser.visit(detail_url)\n",
    "html = browser.html\n",
    "soup = bs(html, 'html.parser')\n",
    "short_image_url = soup.find('img', class_='main_image')['src'][1:]\n",
    "\n",
    "featured_image_url = f'{home_pg_url}{short_image_url}'\n",
    "featured_image_url"
   ]
  },
  {
   "cell_type": "markdown",
   "metadata": {},
   "source": [
    "## Mars Facts"
   ]
  },
  {
   "cell_type": "code",
   "execution_count": 4,
   "metadata": {},
   "outputs": [
    {
     "data": {
      "text/plain": [
       "'<table border=\"1\" class=\"dataframe table table-striped\" id=\"html_table\">  <thead>    <tr style=\"text-align: right;\">      <th></th>      <th>Mars</th>    </tr>    <tr>      <th>Description</th>      <th></th>    </tr>  </thead>  <tbody>    <tr>      <th>Equatorial Diameter:</th>      <td>6,792 km</td>    </tr>    <tr>      <th>Polar Diameter:</th>      <td>6,752 km</td>    </tr>    <tr>      <th>Mass:</th>      <td>6.39 × 10^23 kg (0.11 Earths)</td>    </tr>    <tr>      <th>Moons:</th>      <td>2 (Phobos &amp; Deimos)</td>    </tr>    <tr>      <th>Orbit Distance:</th>      <td>227,943,824 km (1.38 AU)</td>    </tr>    <tr>      <th>Orbit Period:</th>      <td>687 days (1.9 years)</td>    </tr>    <tr>      <th>Surface Temperature:</th>      <td>-87 to -5 °C</td>    </tr>    <tr>      <th>First Record:</th>      <td>2nd millennium BC</td>    </tr>    <tr>      <th>Recorded By:</th>      <td>Egyptian astronomers</td>    </tr>  </tbody></table>'"
      ]
     },
     "execution_count": 4,
     "metadata": {},
     "output_type": "execute_result"
    }
   ],
   "source": [
    "# Visiting the following url\n",
    "facts_url = 'https://space-facts.com/mars/'\n",
    "browser.visit(facts_url)\n",
    "\n",
    "# Retrieving page\n",
    "html = browser.html\n",
    "\n",
    "# Extracting Facts table\n",
    "table = pd.read_html(facts_url)[0].rename(columns={0:'Description', 1:'Mars'}).set_index('Description')\n",
    "table\n",
    "\n",
    "# # Generate HTML table from DataFrame\n",
    "html_table = table.to_html(classes='table table-striped', table_id='html_table', index=True).replace('\\n','')\n",
    "html_table"
   ]
  },
  {
   "cell_type": "markdown",
   "metadata": {},
   "source": [
    "## Mars Hemispheres"
   ]
  },
  {
   "cell_type": "code",
   "execution_count": 5,
   "metadata": {},
   "outputs": [
    {
     "data": {
      "text/plain": [
       "[{'Title': 'Cerberus Hemisphere Enhanced',\n",
       "  'Image url': 'https://astrogeology.usgs.gov/cache/images/f5e372a36edfa389625da6d0cc25d905_cerberus_enhanced.tif_full.jpg'},\n",
       " {'Title': 'Schiaparelli Hemisphere Enhanced',\n",
       "  'Image url': 'https://astrogeology.usgs.gov/cache/images/3778f7b43bbbc89d6e3cfabb3613ba93_schiaparelli_enhanced.tif_full.jpg'},\n",
       " {'Title': 'Syrtis Major Hemisphere Enhanced',\n",
       "  'Image url': 'https://astrogeology.usgs.gov/cache/images/555e6403a6ddd7ba16ddb0e471cadcf7_syrtis_major_enhanced.tif_full.jpg'},\n",
       " {'Title': 'Valles Marineris Hemisphere Enhanced',\n",
       "  'Image url': 'https://astrogeology.usgs.gov/cache/images/b3c7c6c9138f57b4756be9b9c43e3a48_valles_marineris_enhanced.tif_full.jpg'}]"
      ]
     },
     "execution_count": 5,
     "metadata": {},
     "output_type": "execute_result"
    }
   ],
   "source": [
    "# Visiting the following url\n",
    "hemis_url = 'https://astrogeology.usgs.gov/search/results?q=hemisphere+enhanced&k1=target&v1=Mars'\n",
    "browser.visit(hemis_url)\n",
    "\n",
    "# Retrieving page\n",
    "html = browser.html\n",
    "\n",
    "# Initiating variable\n",
    "hemisphere_image_urls =[]\n",
    "\n",
    "# Creating a BeautifulSoup object and parsing with html.parser\n",
    "soup = bs(html, 'html.parser')\n",
    "results = soup.find_all('div', class_='item')\n",
    "# pprint(results)\n",
    "\n",
    "# For looping through all hemispheres\n",
    "for result in results:\n",
    "    \n",
    "    try:\n",
    "        # Identify and return the title with hemisphere\n",
    "        title = result.find('h3').text\n",
    "#         print(title)\n",
    "\n",
    "        # Identify and return the thumbnail image url\n",
    "        home_url = hemis_url.split('search')[0]\n",
    "        short_url = result.find('a', class_='itemLink product-item')['href'][1:]\n",
    "        detail_url = f'{home_url}{short_url}'\n",
    "        \n",
    "        # Navigate to the hemisphere page\n",
    "        browser.visit(detail_url)\n",
    "        html = browser.html\n",
    "        soup = bs(html, 'html.parser')\n",
    "        image_short_url = soup.find('img', class_='wide-image')['src'][1:]\n",
    "        img_url = f'{home_url}{image_short_url}'\n",
    "        \n",
    "        # Creating a dictionary for title and url\n",
    "        dictionary = {\n",
    "                    'Title': title,\n",
    "                    'Image url': img_url\n",
    "        }\n",
    "        \n",
    "        # Appending dictionary to a list\n",
    "        hemisphere_image_urls.append(dictionary)\n",
    "    \n",
    "    except:\n",
    "        pass\n",
    "\n",
    "hemisphere_image_urls"
   ]
  }
 ],
 "metadata": {
  "kernelspec": {
   "display_name": "Python 3",
   "language": "python",
   "name": "python3"
  },
  "language_info": {
   "codemirror_mode": {
    "name": "ipython",
    "version": 3
   },
   "file_extension": ".py",
   "mimetype": "text/x-python",
   "name": "python",
   "nbconvert_exporter": "python",
   "pygments_lexer": "ipython3",
   "version": "3.7.6"
  }
 },
 "nbformat": 4,
 "nbformat_minor": 4
}
